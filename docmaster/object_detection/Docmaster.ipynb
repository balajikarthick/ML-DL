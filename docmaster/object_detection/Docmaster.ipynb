{
  "nbformat": 4,
  "nbformat_minor": 0,
  "metadata": {
    "colab": {
      "name": "Docmaster",
      "version": "0.3.2",
      "provenance": [],
      "collapsed_sections": []
    },
    "kernelspec": {
      "name": "python3",
      "display_name": "Python 3"
    },
    "accelerator": "GPU"
  },
  "cells": [
    {
      "cell_type": "markdown",
      "metadata": {
        "id": "ZdvFzHWu28_7",
        "colab_type": "text"
      },
      "source": [
        "#Mount the Google drive codebase"
      ]
    },
    {
      "cell_type": "code",
      "metadata": {
        "id": "yQl-03c623Hr",
        "colab_type": "code",
        "outputId": "f07ee8a0-de50-4b6f-f1d4-706e7be8e52a",
        "colab": {
          "base_uri": "https://localhost:8080/",
          "height": 122
        }
      },
      "source": [
        "from google.colab import drive\n",
        "drive.mount('/content/drive')"
      ],
      "execution_count": 0,
      "outputs": [
        {
          "output_type": "stream",
          "text": [
            "Go to this URL in a browser: https://accounts.google.com/o/oauth2/auth?client_id=947318989803-6bn6qk8qdgf4n4g3pfee6491hc0brc4i.apps.googleusercontent.com&redirect_uri=urn%3Aietf%3Awg%3Aoauth%3A2.0%3Aoob&scope=email%20https%3A%2F%2Fwww.googleapis.com%2Fauth%2Fdocs.test%20https%3A%2F%2Fwww.googleapis.com%2Fauth%2Fdrive%20https%3A%2F%2Fwww.googleapis.com%2Fauth%2Fdrive.photos.readonly%20https%3A%2F%2Fwww.googleapis.com%2Fauth%2Fpeopleapi.readonly&response_type=code\n",
            "\n",
            "Enter your authorization code:\n",
            "··········\n",
            "Mounted at /content/drive\n"
          ],
          "name": "stdout"
        }
      ]
    },
    {
      "cell_type": "code",
      "metadata": {
        "id": "aTk_O2h06S9m",
        "colab_type": "code",
        "outputId": "863b8fad-c5b9-4cb7-9c5b-3cfb4fe7625e",
        "colab": {
          "base_uri": "https://localhost:8080/",
          "height": 34
        }
      },
      "source": [
        "%cd drive/My Drive/models/research/object_detection"
      ],
      "execution_count": 0,
      "outputs": [
        {
          "output_type": "stream",
          "text": [
            "/content/drive/My Drive/models/research/object_detection\n"
          ],
          "name": "stdout"
        }
      ]
    },
    {
      "cell_type": "code",
      "metadata": {
        "id": "9EbDJFu8EwUt",
        "colab_type": "code",
        "outputId": "b5e13eaa-ab5b-4204-c37e-1b9a63ca3e38",
        "colab": {
          "base_uri": "https://localhost:8080/",
          "height": 1054
        }
      },
      "source": [
        "!ls"
      ],
      "execution_count": 0,
      "outputs": [
        {
          "output_type": "stream",
          "text": [
            "anchor_generators\n",
            "box_coders\n",
            "builders\n",
            "CONTRIBUTING.md\n",
            "core\n",
            "data\n",
            "data_decoders\n",
            "dataset_tools\n",
            "dockerfiles\n",
            "eval_util.py\n",
            "eval_util_test.py\n",
            "exporter.py\n",
            "exporter_test.py\n",
            "export_inference_graph.py\n",
            "export_tflite_ssd_graph_lib.py\n",
            "export_tflite_ssd_graph_lib_test.py\n",
            "export_tflite_ssd_graph.py\n",
            "faster_rcnn_inception_v2_coco_2018_01_28\n",
            "frozen_inference_graph.pb\n",
            "g3doc\n",
            "generate_tfrecord.py\n",
            "images\n",
            "inference\n",
            "inference_graph\n",
            "__init__.py\n",
            "__init__.pyc\n",
            "inputs.py\n",
            "inputs_test.py\n",
            "legacy\n",
            "matchers\n",
            "meta_architectures\n",
            "metrics\n",
            "model_hparams.py\n",
            "model_lib.py\n",
            "model_lib_test.py\n",
            "model_main.py\n",
            "models\n",
            "model_tpu_main.py\n",
            "Object_detection_image.py\n",
            "object_detection_tutorial.ipynb\n",
            "Object_detection_video.py\n",
            "Object_detection_webcam.py\n",
            "predictors\n",
            "protos\n",
            "__pycache__\n",
            "README.md\n",
            "resizer.py\n",
            "samples\n",
            "sizeChecker.py\n",
            "ssd_mobilenet_v1_coco_2017_11_17\n",
            "ssd_mobilenet_v1_coco_2017_11_17.tar.gz\n",
            "test-2.jpeg\n",
            "test_ckpt\n",
            "test_data\n",
            "test_images\n",
            "test.record\n",
            "training\n",
            "train.py\n",
            "train.record\n",
            "utils\n",
            "xml_to_csv.py\n"
          ],
          "name": "stdout"
        }
      ]
    },
    {
      "cell_type": "code",
      "metadata": {
        "id": "dgMlDaAn3Hdz",
        "colab_type": "code",
        "outputId": "65cef4e5-c78a-464d-d501-978c7a66b56d",
        "colab": {
          "base_uri": "https://localhost:8080/",
          "height": 34
        }
      },
      "source": [
        "!pwd"
      ],
      "execution_count": 0,
      "outputs": [
        {
          "output_type": "stream",
          "text": [
            "/content/drive/My Drive/models/research/object_detection\n"
          ],
          "name": "stdout"
        }
      ]
    },
    {
      "cell_type": "code",
      "metadata": {
        "id": "4SLJLEVKAZtq",
        "colab_type": "code",
        "colab": {}
      },
      "source": [
        "import os\n",
        "os.environ['PYTHONPATH'] += \":/content/drive/My Drive/models:/content/drive/My Drive/models/research:/content/drive/My Drive/models/research/slim\""
      ],
      "execution_count": 0,
      "outputs": []
    },
    {
      "cell_type": "code",
      "metadata": {
        "id": "_K8a92ID_leq",
        "colab_type": "code",
        "outputId": "513ba2a3-4486-49f5-94fc-77183c8348a5",
        "colab": {
          "base_uri": "https://localhost:8080/",
          "height": 34
        }
      },
      "source": [
        "!echo $PYTHONPATH"
      ],
      "execution_count": 0,
      "outputs": [
        {
          "output_type": "stream",
          "text": [
            "/env/python:/content/drive/My Drive/models:/content/drive/My Drive/models/research:/content/drive/My Drive/models/research/slim\n"
          ],
          "name": "stdout"
        }
      ]
    },
    {
      "cell_type": "code",
      "metadata": {
        "id": "7Bt2JvcD6dvM",
        "colab_type": "code",
        "outputId": "bdafc25c-a0db-4d8a-a3b5-a519b79c4318",
        "colab": {
          "base_uri": "https://localhost:8080/",
          "height": 34
        }
      },
      "source": [
        "!python generate_tfrecord.py --csv_input=images/train_labels.csv --image_dir=images/train --output_path=train.record"
      ],
      "execution_count": 0,
      "outputs": [
        {
          "output_type": "stream",
          "text": [
            "Successfully created the TFRecords: /content/drive/My Drive/models/research/object_detection/train.record\n"
          ],
          "name": "stdout"
        }
      ]
    },
    {
      "cell_type": "code",
      "metadata": {
        "id": "gBbg1WpGLv_D",
        "colab_type": "code",
        "outputId": "ff518b39-2798-473d-92ce-828730524e8f",
        "colab": {
          "base_uri": "https://localhost:8080/",
          "height": 34
        }
      },
      "source": [
        "!python generate_tfrecord.py --csv_input=images/test_labels.csv --image_dir=images/test --output_path=test.record"
      ],
      "execution_count": 0,
      "outputs": [
        {
          "output_type": "stream",
          "text": [
            "Successfully created the TFRecords: /content/drive/My Drive/models/research/object_detection/test.record\n"
          ],
          "name": "stdout"
        }
      ]
    },
    {
      "cell_type": "code",
      "metadata": {
        "id": "6RhJhPU87hg7",
        "colab_type": "code",
        "colab": {}
      },
      "source": [
        "!python train.py --logtostderr --train_dir=training/ --pipeline_config_path=training/faster_rcnn_inception_v2_pets.config"
      ],
      "execution_count": 0,
      "outputs": []
    },
    {
      "cell_type": "code",
      "metadata": {
        "id": "Wbdq8ktZ6YDI",
        "colab_type": "code",
        "colab": {}
      },
      "source": [
        "!python export_inference_graph.py --input_type image_tensor --pipeline_config_path training/faster_rcnn_inception_v2_pets.config --trained_checkpoint_prefix training/model.ckpt-52385 --output_directory inference_graph"
      ],
      "execution_count": 0,
      "outputs": []
    },
    {
      "cell_type": "code",
      "metadata": {
        "id": "D8Cd0_iP9enG",
        "colab_type": "code",
        "colab": {}
      },
      "source": [
        "!python Object_detection_image.py"
      ],
      "execution_count": 0,
      "outputs": []
    }
  ]
}